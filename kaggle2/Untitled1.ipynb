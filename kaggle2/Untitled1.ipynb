{
 "cells": [
  {
   "cell_type": "code",
   "execution_count": 1,
   "id": "f02f29d9",
   "metadata": {},
   "outputs": [],
   "source": [
    "import pandas as pd\n",
    "import numpy as np\n",
    "import matplotlib.pyplot as plt\n",
    "import seaborn as sns\n",
    "train = pd.read_csv('./train.csv')\n",
    "test = pd.read_csv('./test.csv')"
   ]
  },
  {
   "cell_type": "code",
   "execution_count": 2,
   "id": "ae91d789",
   "metadata": {},
   "outputs": [],
   "source": [
    "X = train.iloc[:,2:]\n",
    "y = train.iloc[:,1]"
   ]
  },
  {
   "cell_type": "code",
   "execution_count": 10,
   "id": "a35e5f5e",
   "metadata": {
    "scrolled": true
   },
   "outputs": [
    {
     "name": "stdout",
     "output_type": "stream",
     "text": [
      "<class 'pandas.core.frame.DataFrame'>\n",
      "RangeIndex: 18510 entries, 0 to 18509\n",
      "Data columns (total 20 columns):\n",
      " #   Column            Non-Null Count  Dtype  \n",
      "---  ------            --------------  -----  \n",
      " 0   ID                18510 non-null  int64  \n",
      " 1   ADDRESS           18510 non-null  object \n",
      " 2   SUBURB            18510 non-null  object \n",
      " 3   PRICE             18510 non-null  int64  \n",
      " 4   BEDROOMS          18510 non-null  int64  \n",
      " 5   BATHROOMS         18510 non-null  int64  \n",
      " 6   GARAGE            18510 non-null  float64\n",
      " 7   LAND_AREA         18510 non-null  int64  \n",
      " 8   FLOOR_AREA        18510 non-null  int64  \n",
      " 9   BUILD_YEAR        16782 non-null  float64\n",
      " 10  CBD_DIST          18510 non-null  int64  \n",
      " 11  NEAREST_STN       18510 non-null  object \n",
      " 12  NEAREST_STN_DIST  18510 non-null  int64  \n",
      " 13  DATE_SOLD         18510 non-null  object \n",
      " 14  POSTCODE          18510 non-null  int64  \n",
      " 15  LATITUDE          18510 non-null  float64\n",
      " 16  LONGITUDE         18510 non-null  float64\n",
      " 17  NEAREST_SCH       18510 non-null  object \n",
      " 18  NEAREST_SCH_DIST  18510 non-null  float64\n",
      " 19  NEAREST_SCH_RANK  12510 non-null  float64\n",
      "dtypes: float64(6), int64(9), object(5)\n",
      "memory usage: 2.8+ MB\n"
     ]
    }
   ],
   "source": [
    "train.info()"
   ]
  },
  {
   "cell_type": "code",
   "execution_count": 6,
   "id": "7d7fb8ec",
   "metadata": {},
   "outputs": [
    {
     "data": {
      "text/plain": [
       "2.0     11378\n",
       "1.0      2906\n",
       "3.0      1153\n",
       "4.0      1096\n",
       "6.0       246\n",
       "5.0       178\n",
       "8.0        63\n",
       "7.0        54\n",
       "12.0       16\n",
       "10.0       12\n",
       "9.0        10\n",
       "14.0        7\n",
       "13.0        7\n",
       "11.0        6\n",
       "16.0        3\n",
       "20.0        2\n",
       "17.0        1\n",
       "18.0        1\n",
       "32.0        1\n",
       "21.0        1\n",
       "26.0        1\n",
       "99.0        1\n",
       "Name: GARAGE, dtype: int64"
      ]
     },
     "execution_count": 6,
     "metadata": {},
     "output_type": "execute_result"
    }
   ],
   "source": [
    "train[\"GARAGE\"].value_counts()"
   ]
  },
  {
   "cell_type": "code",
   "execution_count": 9,
   "id": "69b362e6",
   "metadata": {},
   "outputs": [],
   "source": [
    "train[\"GARAGE\"] = train[\"GARAGE\"].fillna(2.0)"
   ]
  },
  {
   "cell_type": "code",
   "execution_count": 7,
   "id": "03d4df71",
   "metadata": {},
   "outputs": [
    {
     "data": {
      "text/plain": [
       "2006.0    522\n",
       "2000.0    511\n",
       "2002.0    498\n",
       "2007.0    489\n",
       "2004.0    487\n",
       "         ... \n",
       "1889.0      1\n",
       "1892.0      1\n",
       "1907.0      1\n",
       "1897.0      1\n",
       "1941.0      1\n",
       "Name: BUILD_YEAR, Length: 120, dtype: int64"
      ]
     },
     "execution_count": 7,
     "metadata": {},
     "output_type": "execute_result"
    }
   ],
   "source": [
    "train[\"BUILD_YEAR\"].value_counts()"
   ]
  },
  {
   "cell_type": "code",
   "execution_count": 11,
   "id": "bbbe9273",
   "metadata": {},
   "outputs": [],
   "source": [
    "train[\"BUILD_YEAR\"] = train[\"BUILD_YEAR\"].fillna(2006.0)"
   ]
  },
  {
   "cell_type": "code",
   "execution_count": 8,
   "id": "fa0196d2",
   "metadata": {},
   "outputs": [
    {
     "data": {
      "text/plain": [
       "53.0     414\n",
       "92.0     386\n",
       "129.0    380\n",
       "131.0    306\n",
       "35.0     300\n",
       "        ... \n",
       "71.0      13\n",
       "55.0      13\n",
       "88.0      10\n",
       "5.0        3\n",
       "15.0       2\n",
       "Name: NEAREST_SCH_RANK, Length: 103, dtype: int64"
      ]
     },
     "execution_count": 8,
     "metadata": {},
     "output_type": "execute_result"
    }
   ],
   "source": [
    "train[\"NEAREST_SCH_RANK\"].value_counts()"
   ]
  },
  {
   "cell_type": "code",
   "execution_count": 12,
   "id": "80d812a4",
   "metadata": {},
   "outputs": [],
   "source": [
    "train[\"NEAREST_SCH_RANK\"] = train[\"NEAREST_SCH_RANK\"].fillna(53.0)"
   ]
  },
  {
   "cell_type": "code",
   "execution_count": 4,
   "id": "c5eb080e",
   "metadata": {},
   "outputs": [
    {
     "data": {
      "text/plain": [
       "ID                     0\n",
       "ADDRESS                0\n",
       "SUBURB                 0\n",
       "PRICE                  0\n",
       "BEDROOMS               0\n",
       "BATHROOMS              0\n",
       "GARAGE              1367\n",
       "LAND_AREA              0\n",
       "FLOOR_AREA             0\n",
       "BUILD_YEAR          1728\n",
       "CBD_DIST               0\n",
       "NEAREST_STN            0\n",
       "NEAREST_STN_DIST       0\n",
       "DATE_SOLD              0\n",
       "POSTCODE               0\n",
       "LATITUDE               0\n",
       "LONGITUDE              0\n",
       "NEAREST_SCH            0\n",
       "NEAREST_SCH_DIST       0\n",
       "NEAREST_SCH_RANK    6000\n",
       "dtype: int64"
      ]
     },
     "execution_count": 4,
     "metadata": {},
     "output_type": "execute_result"
    }
   ],
   "source": [
    "train.isnull().sum()"
   ]
  },
  {
   "cell_type": "code",
   "execution_count": 15,
   "id": "8bfa43cd",
   "metadata": {},
   "outputs": [
    {
     "data": {
      "text/plain": [
       "ID                  0\n",
       "ADDRESS             0\n",
       "SUBURB              0\n",
       "BEDROOMS            0\n",
       "BATHROOMS           0\n",
       "GARAGE              0\n",
       "LAND_AREA           0\n",
       "FLOOR_AREA          0\n",
       "BUILD_YEAR          0\n",
       "CBD_DIST            0\n",
       "NEAREST_STN         0\n",
       "NEAREST_STN_DIST    0\n",
       "DATE_SOLD           0\n",
       "POSTCODE            0\n",
       "LATITUDE            0\n",
       "LONGITUDE           0\n",
       "NEAREST_SCH         0\n",
       "NEAREST_SCH_DIST    0\n",
       "NEAREST_SCH_RANK    0\n",
       "dtype: int64"
      ]
     },
     "execution_count": 15,
     "metadata": {},
     "output_type": "execute_result"
    }
   ],
   "source": [
    "test.isnull().sum()"
   ]
  },
  {
   "cell_type": "code",
   "execution_count": 14,
   "id": "a3b1b89f",
   "metadata": {},
   "outputs": [],
   "source": [
    "test[\"GARAGE\"] = test[\"GARAGE\"].fillna(2.0)\n",
    "test[\"BUILD_YEAR\"] = test[\"BUILD_YEAR\"].fillna(2006.0)\n",
    "test[\"NEAREST_SCH_RANK\"] = test[\"NEAREST_SCH_RANK\"].fillna(53.0)"
   ]
  },
  {
   "cell_type": "code",
   "execution_count": 16,
   "id": "7e07305e",
   "metadata": {},
   "outputs": [
    {
     "data": {
      "text/html": [
       "<div>\n",
       "<style scoped>\n",
       "    .dataframe tbody tr th:only-of-type {\n",
       "        vertical-align: middle;\n",
       "    }\n",
       "\n",
       "    .dataframe tbody tr th {\n",
       "        vertical-align: top;\n",
       "    }\n",
       "\n",
       "    .dataframe thead th {\n",
       "        text-align: right;\n",
       "    }\n",
       "</style>\n",
       "<table border=\"1\" class=\"dataframe\">\n",
       "  <thead>\n",
       "    <tr style=\"text-align: right;\">\n",
       "      <th></th>\n",
       "      <th>SUBURB</th>\n",
       "      <th>PRICE</th>\n",
       "      <th>BEDROOMS</th>\n",
       "      <th>BATHROOMS</th>\n",
       "      <th>GARAGE</th>\n",
       "      <th>LAND_AREA</th>\n",
       "      <th>FLOOR_AREA</th>\n",
       "      <th>BUILD_YEAR</th>\n",
       "      <th>CBD_DIST</th>\n",
       "      <th>NEAREST_STN</th>\n",
       "      <th>NEAREST_STN_DIST</th>\n",
       "      <th>DATE_SOLD</th>\n",
       "      <th>POSTCODE</th>\n",
       "      <th>LATITUDE</th>\n",
       "      <th>LONGITUDE</th>\n",
       "      <th>NEAREST_SCH</th>\n",
       "      <th>NEAREST_SCH_DIST</th>\n",
       "      <th>NEAREST_SCH_RANK</th>\n",
       "    </tr>\n",
       "  </thead>\n",
       "  <tbody>\n",
       "    <tr>\n",
       "      <th>0</th>\n",
       "      <td>Ridgewood</td>\n",
       "      <td>520000</td>\n",
       "      <td>5</td>\n",
       "      <td>2</td>\n",
       "      <td>4.0</td>\n",
       "      <td>674</td>\n",
       "      <td>266</td>\n",
       "      <td>2007.0</td>\n",
       "      <td>35500</td>\n",
       "      <td>Butler Station</td>\n",
       "      <td>3000</td>\n",
       "      <td>09-2015\\r</td>\n",
       "      <td>6030</td>\n",
       "      <td>-31.656206</td>\n",
       "      <td>115.720566</td>\n",
       "      <td>IRENE MCCORMACK CATHOLIC COLLEGE</td>\n",
       "      <td>1.079230</td>\n",
       "      <td>120.0</td>\n",
       "    </tr>\n",
       "    <tr>\n",
       "      <th>1</th>\n",
       "      <td>Landsdale</td>\n",
       "      <td>575000</td>\n",
       "      <td>5</td>\n",
       "      <td>4</td>\n",
       "      <td>2.0</td>\n",
       "      <td>540</td>\n",
       "      <td>301</td>\n",
       "      <td>2014.0</td>\n",
       "      <td>16900</td>\n",
       "      <td>Whitfords Station</td>\n",
       "      <td>8100</td>\n",
       "      <td>07-2018\\r</td>\n",
       "      <td>6065</td>\n",
       "      <td>-31.800802</td>\n",
       "      <td>115.867675</td>\n",
       "      <td>LANDSDALE CHRISTIAN SCHOOL</td>\n",
       "      <td>0.667585</td>\n",
       "      <td>NaN</td>\n",
       "    </tr>\n",
       "    <tr>\n",
       "      <th>2</th>\n",
       "      <td>Mindarie</td>\n",
       "      <td>760000</td>\n",
       "      <td>4</td>\n",
       "      <td>2</td>\n",
       "      <td>2.0</td>\n",
       "      <td>781</td>\n",
       "      <td>220</td>\n",
       "      <td>1992.0</td>\n",
       "      <td>33500</td>\n",
       "      <td>Clarkson Station</td>\n",
       "      <td>3500</td>\n",
       "      <td>02-2020\\r</td>\n",
       "      <td>6030</td>\n",
       "      <td>-31.682040</td>\n",
       "      <td>115.702600</td>\n",
       "      <td>MINDARIE SENIOR COLLEGE</td>\n",
       "      <td>0.650761</td>\n",
       "      <td>111.0</td>\n",
       "    </tr>\n",
       "    <tr>\n",
       "      <th>3</th>\n",
       "      <td>Mount Hawthorn</td>\n",
       "      <td>1230000</td>\n",
       "      <td>2</td>\n",
       "      <td>1</td>\n",
       "      <td>2.0</td>\n",
       "      <td>425</td>\n",
       "      <td>185</td>\n",
       "      <td>1938.0</td>\n",
       "      <td>3500</td>\n",
       "      <td>Leederville Station</td>\n",
       "      <td>1500</td>\n",
       "      <td>07-2020\\r</td>\n",
       "      <td>6016</td>\n",
       "      <td>-31.926046</td>\n",
       "      <td>115.838181</td>\n",
       "      <td>ARANMORE CATHOLIC COLLEGE</td>\n",
       "      <td>0.484465</td>\n",
       "      <td>106.0</td>\n",
       "    </tr>\n",
       "    <tr>\n",
       "      <th>4</th>\n",
       "      <td>North Fremantle</td>\n",
       "      <td>2010000</td>\n",
       "      <td>3</td>\n",
       "      <td>2</td>\n",
       "      <td>2.0</td>\n",
       "      <td>546</td>\n",
       "      <td>186</td>\n",
       "      <td>2004.0</td>\n",
       "      <td>12900</td>\n",
       "      <td>North Fremantle Station</td>\n",
       "      <td>800</td>\n",
       "      <td>10-2017\\r</td>\n",
       "      <td>6159</td>\n",
       "      <td>-32.032079</td>\n",
       "      <td>115.759626</td>\n",
       "      <td>JOHN CURTIN COLLEGE OF THE ARTS</td>\n",
       "      <td>1.869050</td>\n",
       "      <td>25.0</td>\n",
       "    </tr>\n",
       "    <tr>\n",
       "      <th>...</th>\n",
       "      <td>...</td>\n",
       "      <td>...</td>\n",
       "      <td>...</td>\n",
       "      <td>...</td>\n",
       "      <td>...</td>\n",
       "      <td>...</td>\n",
       "      <td>...</td>\n",
       "      <td>...</td>\n",
       "      <td>...</td>\n",
       "      <td>...</td>\n",
       "      <td>...</td>\n",
       "      <td>...</td>\n",
       "      <td>...</td>\n",
       "      <td>...</td>\n",
       "      <td>...</td>\n",
       "      <td>...</td>\n",
       "      <td>...</td>\n",
       "      <td>...</td>\n",
       "    </tr>\n",
       "    <tr>\n",
       "      <th>18505</th>\n",
       "      <td>Hocking</td>\n",
       "      <td>475000</td>\n",
       "      <td>4</td>\n",
       "      <td>2</td>\n",
       "      <td>2.0</td>\n",
       "      <td>533</td>\n",
       "      <td>198</td>\n",
       "      <td>2007.0</td>\n",
       "      <td>21200</td>\n",
       "      <td>Edgewater Station</td>\n",
       "      <td>4400</td>\n",
       "      <td>04-2018\\r</td>\n",
       "      <td>6065</td>\n",
       "      <td>-31.764187</td>\n",
       "      <td>115.824151</td>\n",
       "      <td>WANNEROO SECONDARY COLLEGE</td>\n",
       "      <td>1.104533</td>\n",
       "      <td>131.0</td>\n",
       "    </tr>\n",
       "    <tr>\n",
       "      <th>18506</th>\n",
       "      <td>Champion Lakes</td>\n",
       "      <td>485000</td>\n",
       "      <td>3</td>\n",
       "      <td>2</td>\n",
       "      <td>2.0</td>\n",
       "      <td>344</td>\n",
       "      <td>237</td>\n",
       "      <td>2010.0</td>\n",
       "      <td>22100</td>\n",
       "      <td>Kelmscott Station</td>\n",
       "      <td>1900</td>\n",
       "      <td>06-2011\\r</td>\n",
       "      <td>6111</td>\n",
       "      <td>-32.114990</td>\n",
       "      <td>115.992834</td>\n",
       "      <td>JOHN WOLLASTON ANGLICAN COMMUNITY SCHOOL</td>\n",
       "      <td>1.816768</td>\n",
       "      <td>40.0</td>\n",
       "    </tr>\n",
       "    <tr>\n",
       "      <th>18507</th>\n",
       "      <td>Redcliffe</td>\n",
       "      <td>642000</td>\n",
       "      <td>3</td>\n",
       "      <td>1</td>\n",
       "      <td>1.0</td>\n",
       "      <td>1016</td>\n",
       "      <td>110</td>\n",
       "      <td>1953.0</td>\n",
       "      <td>8900</td>\n",
       "      <td>Bassendean Station</td>\n",
       "      <td>3100</td>\n",
       "      <td>01-2018\\r</td>\n",
       "      <td>6104</td>\n",
       "      <td>-31.931320</td>\n",
       "      <td>115.950060</td>\n",
       "      <td>CYRIL JACKSON SENIOR CAMPUS</td>\n",
       "      <td>2.169696</td>\n",
       "      <td>NaN</td>\n",
       "    </tr>\n",
       "    <tr>\n",
       "      <th>18508</th>\n",
       "      <td>Samson</td>\n",
       "      <td>491000</td>\n",
       "      <td>4</td>\n",
       "      <td>2</td>\n",
       "      <td>2.0</td>\n",
       "      <td>718</td>\n",
       "      <td>176</td>\n",
       "      <td>1988.0</td>\n",
       "      <td>14600</td>\n",
       "      <td>Murdoch Station</td>\n",
       "      <td>5400</td>\n",
       "      <td>03-2009\\r</td>\n",
       "      <td>6163</td>\n",
       "      <td>-32.070861</td>\n",
       "      <td>115.793834</td>\n",
       "      <td>SETON CATHOLIC COLLEGE</td>\n",
       "      <td>0.208669</td>\n",
       "      <td>91.0</td>\n",
       "    </tr>\n",
       "    <tr>\n",
       "      <th>18509</th>\n",
       "      <td>Koondoola</td>\n",
       "      <td>490000</td>\n",
       "      <td>4</td>\n",
       "      <td>1</td>\n",
       "      <td>2.0</td>\n",
       "      <td>1030</td>\n",
       "      <td>109</td>\n",
       "      <td>1987.0</td>\n",
       "      <td>11600</td>\n",
       "      <td>Warwick Station</td>\n",
       "      <td>6400</td>\n",
       "      <td>09-2013\\r</td>\n",
       "      <td>6064</td>\n",
       "      <td>-31.848240</td>\n",
       "      <td>115.864000</td>\n",
       "      <td>MERCY COLLEGE</td>\n",
       "      <td>0.618862</td>\n",
       "      <td>46.0</td>\n",
       "    </tr>\n",
       "  </tbody>\n",
       "</table>\n",
       "<p>18510 rows × 18 columns</p>\n",
       "</div>"
      ],
      "text/plain": [
       "                SUBURB    PRICE  BEDROOMS  BATHROOMS  GARAGE  LAND_AREA  \\\n",
       "0            Ridgewood   520000         5          2     4.0        674   \n",
       "1            Landsdale   575000         5          4     2.0        540   \n",
       "2             Mindarie   760000         4          2     2.0        781   \n",
       "3       Mount Hawthorn  1230000         2          1     2.0        425   \n",
       "4      North Fremantle  2010000         3          2     2.0        546   \n",
       "...                ...      ...       ...        ...     ...        ...   \n",
       "18505          Hocking   475000         4          2     2.0        533   \n",
       "18506   Champion Lakes   485000         3          2     2.0        344   \n",
       "18507        Redcliffe   642000         3          1     1.0       1016   \n",
       "18508           Samson   491000         4          2     2.0        718   \n",
       "18509        Koondoola   490000         4          1     2.0       1030   \n",
       "\n",
       "       FLOOR_AREA  BUILD_YEAR  CBD_DIST              NEAREST_STN  \\\n",
       "0             266      2007.0     35500           Butler Station   \n",
       "1             301      2014.0     16900        Whitfords Station   \n",
       "2             220      1992.0     33500         Clarkson Station   \n",
       "3             185      1938.0      3500      Leederville Station   \n",
       "4             186      2004.0     12900  North Fremantle Station   \n",
       "...           ...         ...       ...                      ...   \n",
       "18505         198      2007.0     21200        Edgewater Station   \n",
       "18506         237      2010.0     22100        Kelmscott Station   \n",
       "18507         110      1953.0      8900       Bassendean Station   \n",
       "18508         176      1988.0     14600          Murdoch Station   \n",
       "18509         109      1987.0     11600          Warwick Station   \n",
       "\n",
       "       NEAREST_STN_DIST  DATE_SOLD  POSTCODE   LATITUDE   LONGITUDE  \\\n",
       "0                  3000  09-2015\\r      6030 -31.656206  115.720566   \n",
       "1                  8100  07-2018\\r      6065 -31.800802  115.867675   \n",
       "2                  3500  02-2020\\r      6030 -31.682040  115.702600   \n",
       "3                  1500  07-2020\\r      6016 -31.926046  115.838181   \n",
       "4                   800  10-2017\\r      6159 -32.032079  115.759626   \n",
       "...                 ...        ...       ...        ...         ...   \n",
       "18505              4400  04-2018\\r      6065 -31.764187  115.824151   \n",
       "18506              1900  06-2011\\r      6111 -32.114990  115.992834   \n",
       "18507              3100  01-2018\\r      6104 -31.931320  115.950060   \n",
       "18508              5400  03-2009\\r      6163 -32.070861  115.793834   \n",
       "18509              6400  09-2013\\r      6064 -31.848240  115.864000   \n",
       "\n",
       "                                    NEAREST_SCH  NEAREST_SCH_DIST  \\\n",
       "0              IRENE MCCORMACK CATHOLIC COLLEGE          1.079230   \n",
       "1                    LANDSDALE CHRISTIAN SCHOOL          0.667585   \n",
       "2                       MINDARIE SENIOR COLLEGE          0.650761   \n",
       "3                     ARANMORE CATHOLIC COLLEGE          0.484465   \n",
       "4               JOHN CURTIN COLLEGE OF THE ARTS          1.869050   \n",
       "...                                         ...               ...   \n",
       "18505                WANNEROO SECONDARY COLLEGE          1.104533   \n",
       "18506  JOHN WOLLASTON ANGLICAN COMMUNITY SCHOOL          1.816768   \n",
       "18507               CYRIL JACKSON SENIOR CAMPUS          2.169696   \n",
       "18508                    SETON CATHOLIC COLLEGE          0.208669   \n",
       "18509                             MERCY COLLEGE          0.618862   \n",
       "\n",
       "       NEAREST_SCH_RANK  \n",
       "0                 120.0  \n",
       "1                   NaN  \n",
       "2                 111.0  \n",
       "3                 106.0  \n",
       "4                  25.0  \n",
       "...                 ...  \n",
       "18505             131.0  \n",
       "18506              40.0  \n",
       "18507               NaN  \n",
       "18508              91.0  \n",
       "18509              46.0  \n",
       "\n",
       "[18510 rows x 18 columns]"
      ]
     },
     "execution_count": 16,
     "metadata": {},
     "output_type": "execute_result"
    }
   ],
   "source": [
    "X"
   ]
  },
  {
   "cell_type": "code",
   "execution_count": 17,
   "id": "3080b2f6",
   "metadata": {},
   "outputs": [],
   "source": [
    "categorical_features = ['NEAREST_STN','NEAREST_SCH']"
   ]
  },
  {
   "cell_type": "code",
   "execution_count": 18,
   "id": "b6466e56",
   "metadata": {},
   "outputs": [],
   "source": [
    "for feature_name in categorical_features :\n",
    "    one_hot = pd.get_dummies(train[feature_name], prefix=feature_name)\n",
    "    train = pd.concat([train,one_hot], axis=1)        # 기존 데이터 끝에 one_hot을 붙임\n",
    "    train.drop(feature_name, axis=1, inplace=True) "
   ]
  },
  {
   "cell_type": "code",
   "execution_count": 19,
   "id": "7958774f",
   "metadata": {},
   "outputs": [],
   "source": [
    "for feature_name in categorical_features :\n",
    "    one_hot = pd.get_dummies(test[feature_name], prefix=feature_name)\n",
    "    test = pd.concat([test,one_hot], axis=1)        # 기존 데이터 끝에 one_hot을 붙임\n",
    "    test.drop(feature_name, axis=1, inplace=True) "
   ]
  },
  {
   "cell_type": "code",
   "execution_count": 20,
   "id": "d01351e0",
   "metadata": {
    "scrolled": true
   },
   "outputs": [
    {
     "data": {
      "text/plain": [
       "((18510, 245), (15146, 244))"
      ]
     },
     "execution_count": 20,
     "metadata": {},
     "output_type": "execute_result"
    }
   ],
   "source": [
    "train.shape, test.shape"
   ]
  },
  {
   "cell_type": "code",
   "execution_count": 21,
   "id": "ad2f1552",
   "metadata": {
    "scrolled": false
   },
   "outputs": [
    {
     "data": {
      "text/plain": [
       "{'NEAREST_SCH_FAIRBRIDGE COLLEGE', 'PRICE'}"
      ]
     },
     "execution_count": 21,
     "metadata": {},
     "output_type": "execute_result"
    }
   ],
   "source": [
    "set(train.columns) - set(test.columns)"
   ]
  },
  {
   "cell_type": "code",
   "execution_count": 22,
   "id": "1c3f96de",
   "metadata": {},
   "outputs": [],
   "source": [
    "train.sort_index(axis=1, inplace=True)\n",
    "test.sort_index(axis=1, inplace=True)"
   ]
  },
  {
   "cell_type": "code",
   "execution_count": 23,
   "id": "86f37248",
   "metadata": {},
   "outputs": [
    {
     "data": {
      "text/plain": [
       "Index(['ADDRESS', 'BATHROOMS', 'BEDROOMS', 'BUILD_YEAR', 'CBD_DIST',\n",
       "       'DATE_SOLD', 'FLOOR_AREA', 'GARAGE', 'ID', 'LAND_AREA',\n",
       "       ...\n",
       "       'NEAREST_STN_Warnbro Station', 'NEAREST_STN_Warwick Station',\n",
       "       'NEAREST_STN_Wellard Station', 'NEAREST_STN_Welshpool Station',\n",
       "       'NEAREST_STN_West Leederville Station', 'NEAREST_STN_Whitfords Station',\n",
       "       'NEAREST_STN_Woodbridge Station', 'POSTCODE', 'PRICE', 'SUBURB'],\n",
       "      dtype='object', length=245)"
      ]
     },
     "execution_count": 23,
     "metadata": {},
     "output_type": "execute_result"
    }
   ],
   "source": [
    "train.columns"
   ]
  },
  {
   "cell_type": "code",
   "execution_count": 24,
   "id": "78f077e4",
   "metadata": {},
   "outputs": [
    {
     "data": {
      "text/plain": [
       "Index(['ADDRESS', 'BATHROOMS', 'BEDROOMS', 'BUILD_YEAR', 'CBD_DIST',\n",
       "       'DATE_SOLD', 'FLOOR_AREA', 'GARAGE', 'ID', 'LAND_AREA',\n",
       "       ...\n",
       "       'NEAREST_STN_Vic', 'NEAREST_STN_Warnbro Station',\n",
       "       'NEAREST_STN_Warwick Station', 'NEAREST_STN_Wellard Station',\n",
       "       'NEAREST_STN_Welshpool Station', 'NEAREST_STN_West Leederville Station',\n",
       "       'NEAREST_STN_Whitfords Station', 'NEAREST_STN_Woodbridge Station',\n",
       "       'POSTCODE', 'SUBURB'],\n",
       "      dtype='object', length=244)"
      ]
     },
     "execution_count": 24,
     "metadata": {},
     "output_type": "execute_result"
    }
   ],
   "source": [
    "test.columns"
   ]
  },
  {
   "cell_type": "code",
   "execution_count": 25,
   "id": "1e1c47c4",
   "metadata": {},
   "outputs": [],
   "source": [
    "from sklearn.model_selection import train_test_split   # 트레인과 테스트를 알아서 나눠죠\n",
    "X_train, X_test, y_train, y_test = train_test_split(X,               #독립 변수 \n",
    "                                                    y,               #종속 변수\n",
    "                                                    test_size=0.3,   #검증 30%   => 트레인 사이트는 70으 된다.\n",
    "                                                    random_state=10)"
   ]
  },
  {
   "cell_type": "code",
   "execution_count": 26,
   "id": "cb8c9c7b",
   "metadata": {},
   "outputs": [],
   "source": [
    "X_train = train.drop(['ADDRESS','SUBURB','DATE_SOLD','NEAREST_SCH_FAIRBRIDGE COLLEGE'], axis=1)\n",
    "y_train = train.PRICE\n",
    "X_test = test.drop(['ADDRESS','SUBURB','DATE_SOLD'], axis=1)"
   ]
  },
  {
   "cell_type": "code",
   "execution_count": 27,
   "id": "653e9965",
   "metadata": {},
   "outputs": [
    {
     "data": {
      "text/plain": [
       "((18510, 241), (18510,), (15146, 241))"
      ]
     },
     "execution_count": 27,
     "metadata": {},
     "output_type": "execute_result"
    }
   ],
   "source": [
    "X_train.shape, y_train.shape, X_test.shape"
   ]
  },
  {
   "cell_type": "code",
   "execution_count": 35,
   "id": "b5c76c4f",
   "metadata": {},
   "outputs": [
    {
     "data": {
      "text/plain": [
       "LinearRegression()"
      ]
     },
     "execution_count": 35,
     "metadata": {},
     "output_type": "execute_result"
    }
   ],
   "source": [
    "from sklearn.linear_model import LinearRegression\n",
    "\n",
    "# 단순회귀분석 모형 객체 생성\n",
    "lr = LinearRegression()  \n",
    "\n",
    "# train data를 가지고 모형 학습  \n",
    "# 훈련은 fit 함수로 진행한다.   \n",
    "# fit함수로 모델구축할 때는 test가 아니라 train data로 한다.\n",
    "lr.fit(X_train, y_train)"
   ]
  },
  {
   "cell_type": "code",
   "execution_count": 36,
   "id": "7986418d",
   "metadata": {},
   "outputs": [
    {
     "name": "stderr",
     "output_type": "stream",
     "text": [
      "C:\\Users\\AI\\Anaconda3\\lib\\site-packages\\sklearn\\base.py:493: FutureWarning: The feature names should match those that were passed during fit. Starting version 1.2, an error will be raised.\n",
      "Feature names unseen at fit time:\n",
      "- NEAREST_SCH_SOUTH METROPOLITAN YOUTH LINK COMMUNITY COLLEGE\n",
      "Feature names seen at fit time, yet now missing:\n",
      "- PRICE\n",
      "\n",
      "  warnings.warn(message, FutureWarning)\n"
     ]
    }
   ],
   "source": [
    "lr_pred = lr.predict(X_test)"
   ]
  },
  {
   "cell_type": "code",
   "execution_count": null,
   "id": "b24d32b3",
   "metadata": {},
   "outputs": [],
   "source": []
  }
 ],
 "metadata": {
  "kernelspec": {
   "display_name": "Python 3 (ipykernel)",
   "language": "python",
   "name": "python3"
  },
  "language_info": {
   "codemirror_mode": {
    "name": "ipython",
    "version": 3
   },
   "file_extension": ".py",
   "mimetype": "text/x-python",
   "name": "python",
   "nbconvert_exporter": "python",
   "pygments_lexer": "ipython3",
   "version": "3.9.12"
  },
  "toc": {
   "base_numbering": 1,
   "nav_menu": {},
   "number_sections": true,
   "sideBar": true,
   "skip_h1_title": false,
   "title_cell": "Table of Contents",
   "title_sidebar": "Contents",
   "toc_cell": false,
   "toc_position": {},
   "toc_section_display": true,
   "toc_window_display": false
  }
 },
 "nbformat": 4,
 "nbformat_minor": 5
}
