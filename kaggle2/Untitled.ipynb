{
 "cells": [
  {
   "cell_type": "code",
   "execution_count": 10,
   "id": "99be1229",
   "metadata": {},
   "outputs": [
    {
     "name": "stderr",
     "output_type": "stream",
     "text": [
      "No path specified. Models will be saved in: \"AutogluonModels/ag-20220726_045222\\\"\n",
      "Loaded data from: C:\\Users\\AI\\Kaggle_Team_2\\train.csv | Columns = 20 / 20 | Rows = 18510 -> 18510\n",
      "Beginning AutoGluon training ...\n",
      "AutoGluon will save models to \"AutogluonModels/ag-20220726_045222\\\"\n",
      "AutoGluon Version:  0.5.1\n",
      "Python Version:     3.9.12\n",
      "Operating System:   Windows\n",
      "Train Data Rows:    18510\n",
      "Train Data Columns: 19\n",
      "Label Column: PRICE\n",
      "Preprocessing data ...\n",
      "AutoGluon infers your prediction problem is: 'regression' (because dtype of label-column == int and many unique label-values observed).\n",
      "\tLabel info (max, min, mean, stddev): (2440000, 51000, 634772.66299, 352877.06379)\n",
      "\tIf 'regression' is not the correct problem_type, please manually specify the problem_type parameter during predictor init (You may specify problem_type as one of: ['binary', 'multiclass', 'regression'])\n",
      "Using Feature Generators to preprocess the data ...\n",
      "Fitting AutoMLPipelineFeatureGenerator...\n",
      "\tAvailable Memory:                    7343.93 MB\n",
      "\tTrain Data (Original)  Memory Usage: 8.72 MB (0.1% of available memory)\n",
      "\tInferring data type of each feature based on column values. Set feature_metadata_in to manually specify special dtypes of the features.\n",
      "\tStage 1 Generators:\n",
      "\t\tFitting AsTypeFeatureGenerator...\n",
      "\tStage 2 Generators:\n",
      "\t\tFitting FillNaFeatureGenerator...\n",
      "\tStage 3 Generators:\n",
      "\t\tFitting IdentityFeatureGenerator...\n",
      "\t\tFitting CategoryFeatureGenerator...\n",
      "\t\t\tFitting CategoryMemoryMinimizeFeatureGenerator...\n",
      "\t\tFitting DatetimeFeatureGenerator...\n",
      "\t\tFitting TextSpecialFeatureGenerator...\n",
      "\t\t\tFitting BinnedFeatureGenerator...\n",
      "\t\t\tFitting DropDuplicatesFeatureGenerator...\n",
      "\t\tFitting TextNgramFeatureGenerator...\n",
      "\t\t\tFitting CountVectorizer for text features: ['ADDRESS', 'NEAREST_SCH']\n",
      "\t\t\tCountVectorizer fit with vocabulary size = 935\n",
      "\tStage 4 Generators:\n",
      "\t\tFitting DropUniqueFeatureGenerator...\n",
      "\tTypes of features in original data (raw dtype, special dtypes):\n",
      "\t\t('float', [])                      : 6 | ['GARAGE', 'BUILD_YEAR', 'LATITUDE', 'LONGITUDE', 'NEAREST_SCH_DIST', ...]\n",
      "\t\t('int', [])                        : 8 | ['ID', 'BEDROOMS', 'BATHROOMS', 'LAND_AREA', 'FLOOR_AREA', ...]\n",
      "\t\t('object', [])                     : 2 | ['SUBURB', 'NEAREST_STN']\n",
      "\t\t('object', ['datetime_as_object']) : 1 | ['DATE_SOLD']\n",
      "\t\t('object', ['text'])               : 2 | ['ADDRESS', 'NEAREST_SCH']\n",
      "\tTypes of features in processed data (raw dtype, special dtypes):\n",
      "\t\t('category', [])                    :   2 | ['SUBURB', 'NEAREST_STN']\n",
      "\t\t('category', ['text_as_category'])  :   2 | ['ADDRESS', 'NEAREST_SCH']\n",
      "\t\t('float', [])                       :   6 | ['GARAGE', 'BUILD_YEAR', 'LATITUDE', 'LONGITUDE', 'NEAREST_SCH_DIST', ...]\n",
      "\t\t('int', [])                         :   8 | ['ID', 'BEDROOMS', 'BATHROOMS', 'LAND_AREA', 'FLOOR_AREA', ...]\n",
      "\t\t('int', ['binned', 'text_special']) :  17 | ['ADDRESS.char_count', 'ADDRESS.word_count', 'ADDRESS.capital_ratio', 'ADDRESS.lower_ratio', 'ADDRESS.digit_ratio', ...]\n",
      "\t\t('int', ['datetime_as_int'])        :   4 | ['DATE_SOLD', 'DATE_SOLD.year', 'DATE_SOLD.month', 'DATE_SOLD.dayofweek']\n",
      "\t\t('int', ['text_ngram'])             : 936 | ['__nlp__.10', '__nlp__.100', '__nlp__.11', '__nlp__.12', '__nlp__.13', ...]\n",
      "\t4.6s = Fit runtime\n",
      "\t19 features in original data used to generate 975 features in processed data.\n",
      "\tTrain Data (Processed) Memory Usage: 37.52 MB (0.5% of available memory)\n",
      "Data preprocessing and feature engineering runtime = 4.76s ...\n",
      "AutoGluon will gauge predictive performance using evaluation metric: 'root_mean_squared_error'\n",
      "\tThis metric's sign has been flipped to adhere to being higher_is_better. The metric score can be multiplied by -1 to get the metric value.\n",
      "\tTo change this, specify the eval_metric parameter of Predictor()\n",
      "Automatically generating train/validation split with holdout_frac=0.1, Train Rows: 16659, Val Rows: 1851\n",
      "Fitting 11 L1 models ...\n",
      "Fitting model: KNeighborsUnif ...\n",
      "Intel(R) Extension for Scikit-learn* enabled (https://github.com/intel/scikit-learn-intelex)\n",
      "Intel(R) Extension for Scikit-learn* enabled (https://github.com/intel/scikit-learn-intelex)\n",
      "\t-374757.2549\t = Validation score   (-root_mean_squared_error)\n",
      "\t0.82s\t = Training   runtime\n",
      "\t0.18s\t = Validation runtime\n",
      "Fitting model: KNeighborsDist ...\n",
      "Intel(R) Extension for Scikit-learn* enabled (https://github.com/intel/scikit-learn-intelex)\n",
      "Intel(R) Extension for Scikit-learn* enabled (https://github.com/intel/scikit-learn-intelex)\n",
      "\t-374760.5676\t = Validation score   (-root_mean_squared_error)\n",
      "\t0.33s\t = Training   runtime\n",
      "\t0.12s\t = Validation runtime\n",
      "Fitting model: LightGBMXT ...\n"
     ]
    },
    {
     "name": "stdout",
     "output_type": "stream",
     "text": [
      "[1000]\tvalid_set's rmse: 125569\n"
     ]
    },
    {
     "name": "stderr",
     "output_type": "stream",
     "text": [
      "\t-125341.0043\t = Validation score   (-root_mean_squared_error)\n",
      "\t3.67s\t = Training   runtime\n",
      "\t0.05s\t = Validation runtime\n",
      "Fitting model: LightGBM ...\n",
      "\t-124794.6353\t = Validation score   (-root_mean_squared_error)\n",
      "\t2.48s\t = Training   runtime\n",
      "\t0.03s\t = Validation runtime\n",
      "Fitting model: RandomForestMSE ...\n",
      "\t-132024.8737\t = Validation score   (-root_mean_squared_error)\n",
      "\t181.93s\t = Training   runtime\n",
      "\t0.06s\t = Validation runtime\n",
      "Fitting model: CatBoost ...\n",
      "\t-119450.2952\t = Validation score   (-root_mean_squared_error)\n",
      "\t366.08s\t = Training   runtime\n",
      "\t0.05s\t = Validation runtime\n",
      "Fitting model: ExtraTreesMSE ...\n",
      "\t-136469.1329\t = Validation score   (-root_mean_squared_error)\n",
      "\t210.13s\t = Training   runtime\n",
      "\t0.06s\t = Validation runtime\n",
      "Fitting model: NeuralNetFastAI ...\n",
      "\t-149602.1373\t = Validation score   (-root_mean_squared_error)\n",
      "\t19.77s\t = Training   runtime\n",
      "\t0.05s\t = Validation runtime\n",
      "Fitting model: XGBoost ...\n",
      "\t-125351.4114\t = Validation score   (-root_mean_squared_error)\n",
      "\t9.57s\t = Training   runtime\n",
      "\t0.05s\t = Validation runtime\n",
      "Fitting model: NeuralNetTorch ...\n",
      "\t-141374.918\t = Validation score   (-root_mean_squared_error)\n",
      "\t44.33s\t = Training   runtime\n",
      "\t0.05s\t = Validation runtime\n",
      "Fitting model: LightGBMLarge ...\n",
      "\t-123454.5765\t = Validation score   (-root_mean_squared_error)\n",
      "\t5.14s\t = Training   runtime\n",
      "\t0.05s\t = Validation runtime\n",
      "Fitting model: WeightedEnsemble_L2 ...\n",
      "\t-117595.883\t = Validation score   (-root_mean_squared_error)\n",
      "\t0.24s\t = Training   runtime\n",
      "\t0.0s\t = Validation runtime\n",
      "AutoGluon training complete, total runtime = 851.61s ... Best model: \"WeightedEnsemble_L2\"\n",
      "TabularPredictor saved. To load, use: predictor = TabularPredictor.load(\"AutogluonModels/ag-20220726_045222\\\")\n",
      "Loaded data from: C:\\Users\\AI\\Kaggle_Team_2\\test.csv | Columns = 19 / 19 | Rows = 15146 -> 15146\n"
     ]
    }
   ],
   "source": [
    "from autogluon.tabular import TabularPredictor as task\n",
    "#predictor = task.fit(\"data/train_first.csv\", label=\"income\") #학습\n",
    "predictor = task(label=\"PRICE\").fit(\"C:\\\\Users\\\\AI\\\\Kaggle_Team_2\\\\train.csv\")\n",
    "predictions = predictor.predict(\"C:\\\\Users\\\\AI\\\\Kaggle_Team_2\\\\test.csv\")"
   ]
  },
  {
   "cell_type": "code",
   "execution_count": 11,
   "id": "a9d5efd5",
   "metadata": {},
   "outputs": [
    {
     "data": {
      "text/plain": [
       "0        5.408778e+05\n",
       "1        1.444859e+06\n",
       "2        1.015688e+06\n",
       "3        4.778274e+05\n",
       "4        2.218512e+05\n",
       "             ...     \n",
       "15141    3.160769e+05\n",
       "15142    4.082753e+05\n",
       "15143    1.099214e+06\n",
       "15144    1.210709e+06\n",
       "15145    3.830147e+05\n",
       "Name: PRICE, Length: 15146, dtype: float32"
      ]
     },
     "execution_count": 11,
     "metadata": {},
     "output_type": "execute_result"
    }
   ],
   "source": [
    "predictions"
   ]
  },
  {
   "cell_type": "code",
   "execution_count": null,
   "id": "d4e3ae11",
   "metadata": {},
   "outputs": [],
   "source": []
  }
 ],
 "metadata": {
  "kernelspec": {
   "display_name": "Python 3 (ipykernel)",
   "language": "python",
   "name": "python3"
  },
  "language_info": {
   "codemirror_mode": {
    "name": "ipython",
    "version": 3
   },
   "file_extension": ".py",
   "mimetype": "text/x-python",
   "name": "python",
   "nbconvert_exporter": "python",
   "pygments_lexer": "ipython3",
   "version": "3.9.12"
  },
  "toc": {
   "base_numbering": 1,
   "nav_menu": {},
   "number_sections": true,
   "sideBar": true,
   "skip_h1_title": false,
   "title_cell": "Table of Contents",
   "title_sidebar": "Contents",
   "toc_cell": false,
   "toc_position": {},
   "toc_section_display": true,
   "toc_window_display": false
  }
 },
 "nbformat": 4,
 "nbformat_minor": 5
}
