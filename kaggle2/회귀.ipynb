{
 "cells": [
  {
   "cell_type": "code",
   "execution_count": 1,
   "id": "d0fdf718",
   "metadata": {},
   "outputs": [],
   "source": [
    "import pandas as pd\n",
    "\n",
    "train = pd.read_csv(\"./train.csv\")\n",
    "test = pd.read_csv(\"./test.csv\")"
   ]
  },
  {
   "cell_type": "code",
   "execution_count": 4,
   "id": "ca5b2a79",
   "metadata": {},
   "outputs": [
    {
     "name": "stdout",
     "output_type": "stream",
     "text": [
      "(18510, 20)\n",
      "(15146, 19)\n"
     ]
    }
   ],
   "source": [
    "print(train.shape)\n",
    "print(test.shape)"
   ]
  },
  {
   "cell_type": "code",
   "execution_count": 2,
   "id": "b307b65e",
   "metadata": {
    "collapsed": true
   },
   "outputs": [
    {
     "data": {
      "text/plain": [
       "ID                     0\n",
       "ADDRESS                0\n",
       "SUBURB                 0\n",
       "PRICE                  0\n",
       "BEDROOMS               0\n",
       "BATHROOMS              0\n",
       "GARAGE              1367\n",
       "LAND_AREA              0\n",
       "FLOOR_AREA             0\n",
       "BUILD_YEAR          1728\n",
       "CBD_DIST               0\n",
       "NEAREST_STN            0\n",
       "NEAREST_STN_DIST       0\n",
       "DATE_SOLD              0\n",
       "POSTCODE               0\n",
       "LATITUDE               0\n",
       "LONGITUDE              0\n",
       "NEAREST_SCH            0\n",
       "NEAREST_SCH_DIST       0\n",
       "NEAREST_SCH_RANK    6000\n",
       "dtype: int64"
      ]
     },
     "execution_count": 2,
     "metadata": {},
     "output_type": "execute_result"
    }
   ],
   "source": [
    "train.isnull().sum()"
   ]
  },
  {
   "cell_type": "code",
   "execution_count": 3,
   "id": "f2b34ea7",
   "metadata": {
    "collapsed": true
   },
   "outputs": [
    {
     "data": {
      "text/plain": [
       "ID                     0\n",
       "ADDRESS                0\n",
       "SUBURB                 0\n",
       "BEDROOMS               0\n",
       "BATHROOMS              0\n",
       "GARAGE              1111\n",
       "LAND_AREA              0\n",
       "FLOOR_AREA             0\n",
       "BUILD_YEAR          1427\n",
       "CBD_DIST               0\n",
       "NEAREST_STN            0\n",
       "NEAREST_STN_DIST       0\n",
       "DATE_SOLD              0\n",
       "POSTCODE               0\n",
       "LATITUDE               0\n",
       "LONGITUDE              0\n",
       "NEAREST_SCH            0\n",
       "NEAREST_SCH_DIST       0\n",
       "NEAREST_SCH_RANK    4952\n",
       "dtype: int64"
      ]
     },
     "execution_count": 3,
     "metadata": {},
     "output_type": "execute_result"
    }
   ],
   "source": [
    "test.isnull().sum()"
   ]
  },
  {
   "cell_type": "code",
   "execution_count": 5,
   "id": "8defd776",
   "metadata": {},
   "outputs": [
    {
     "name": "stdout",
     "output_type": "stream",
     "text": [
      "<class 'pandas.core.frame.DataFrame'>\n",
      "RangeIndex: 18510 entries, 0 to 18509\n",
      "Data columns (total 20 columns):\n",
      " #   Column            Non-Null Count  Dtype  \n",
      "---  ------            --------------  -----  \n",
      " 0   ID                18510 non-null  int64  \n",
      " 1   ADDRESS           18510 non-null  object \n",
      " 2   SUBURB            18510 non-null  object \n",
      " 3   PRICE             18510 non-null  int64  \n",
      " 4   BEDROOMS          18510 non-null  int64  \n",
      " 5   BATHROOMS         18510 non-null  int64  \n",
      " 6   GARAGE            17143 non-null  float64\n",
      " 7   LAND_AREA         18510 non-null  int64  \n",
      " 8   FLOOR_AREA        18510 non-null  int64  \n",
      " 9   BUILD_YEAR        16782 non-null  float64\n",
      " 10  CBD_DIST          18510 non-null  int64  \n",
      " 11  NEAREST_STN       18510 non-null  object \n",
      " 12  NEAREST_STN_DIST  18510 non-null  int64  \n",
      " 13  DATE_SOLD         18510 non-null  object \n",
      " 14  POSTCODE          18510 non-null  int64  \n",
      " 15  LATITUDE          18510 non-null  float64\n",
      " 16  LONGITUDE         18510 non-null  float64\n",
      " 17  NEAREST_SCH       18510 non-null  object \n",
      " 18  NEAREST_SCH_DIST  18510 non-null  float64\n",
      " 19  NEAREST_SCH_RANK  12510 non-null  float64\n",
      "dtypes: float64(6), int64(9), object(5)\n",
      "memory usage: 2.8+ MB\n"
     ]
    }
   ],
   "source": [
    "train.info()"
   ]
  },
  {
   "cell_type": "code",
   "execution_count": 6,
   "id": "6714a20f",
   "metadata": {},
   "outputs": [
    {
     "name": "stdout",
     "output_type": "stream",
     "text": [
      "<class 'pandas.core.frame.DataFrame'>\n",
      "RangeIndex: 15146 entries, 0 to 15145\n",
      "Data columns (total 19 columns):\n",
      " #   Column            Non-Null Count  Dtype  \n",
      "---  ------            --------------  -----  \n",
      " 0   ID                15146 non-null  int64  \n",
      " 1   ADDRESS           15146 non-null  object \n",
      " 2   SUBURB            15146 non-null  object \n",
      " 3   BEDROOMS          15146 non-null  int64  \n",
      " 4   BATHROOMS         15146 non-null  int64  \n",
      " 5   GARAGE            14035 non-null  float64\n",
      " 6   LAND_AREA         15146 non-null  int64  \n",
      " 7   FLOOR_AREA        15146 non-null  int64  \n",
      " 8   BUILD_YEAR        13719 non-null  float64\n",
      " 9   CBD_DIST          15146 non-null  int64  \n",
      " 10  NEAREST_STN       15146 non-null  object \n",
      " 11  NEAREST_STN_DIST  15146 non-null  int64  \n",
      " 12  DATE_SOLD         15146 non-null  object \n",
      " 13  POSTCODE          15146 non-null  int64  \n",
      " 14  LATITUDE          15146 non-null  float64\n",
      " 15  LONGITUDE         15146 non-null  float64\n",
      " 16  NEAREST_SCH       15146 non-null  object \n",
      " 17  NEAREST_SCH_DIST  15146 non-null  float64\n",
      " 18  NEAREST_SCH_RANK  10194 non-null  float64\n",
      "dtypes: float64(6), int64(8), object(5)\n",
      "memory usage: 2.2+ MB\n"
     ]
    }
   ],
   "source": [
    "test.info()"
   ]
  },
  {
   "cell_type": "code",
   "execution_count": null,
   "id": "6fcbdebd",
   "metadata": {},
   "outputs": [],
   "source": []
  }
 ],
 "metadata": {
  "kernelspec": {
   "display_name": "Python 3 (ipykernel)",
   "language": "python",
   "name": "python3"
  },
  "language_info": {
   "codemirror_mode": {
    "name": "ipython",
    "version": 3
   },
   "file_extension": ".py",
   "mimetype": "text/x-python",
   "name": "python",
   "nbconvert_exporter": "python",
   "pygments_lexer": "ipython3",
   "version": "3.9.12"
  },
  "toc": {
   "base_numbering": 1,
   "nav_menu": {},
   "number_sections": true,
   "sideBar": true,
   "skip_h1_title": false,
   "title_cell": "Table of Contents",
   "title_sidebar": "Contents",
   "toc_cell": false,
   "toc_position": {},
   "toc_section_display": true,
   "toc_window_display": false
  }
 },
 "nbformat": 4,
 "nbformat_minor": 5
}
